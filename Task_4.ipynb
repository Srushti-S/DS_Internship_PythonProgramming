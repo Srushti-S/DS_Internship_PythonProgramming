{
  "nbformat": 4,
  "nbformat_minor": 0,
  "metadata": {
    "colab": {
      "provenance": []
    },
    "kernelspec": {
      "name": "python3",
      "display_name": "Python 3"
    },
    "language_info": {
      "name": "python"
    }
  },
  "cells": [
    {
      "cell_type": "markdown",
      "source": [
        "sWAP cASE"
      ],
      "metadata": {
        "id": "YVskOfy6N_XR"
      }
    },
    {
      "cell_type": "code",
      "execution_count": null,
      "metadata": {
        "id": "CVk_NKC6N8yH"
      },
      "outputs": [],
      "source": [
        "def swap_case(s):\n",
        "    new_s=[]\n",
        "    for i in range(len(s)):\n",
        "        if s[i].isupper()==True:\n",
        "            s1=s[i].lower()\n",
        "        else:\n",
        "            s1=s[i].upper()\n",
        "        new_s.append(s1)\n",
        "    listToStr = ''.join([str(elem) for elem in new_s])\n",
        "    return listToStr\n",
        "if __name__ == '__main__':\n",
        "  s = input()\n",
        "  result = swap_case(s)\n",
        "  print(result)"
      ]
    },
    {
      "cell_type": "markdown",
      "source": [
        "String Split and Join"
      ],
      "metadata": {
        "id": "H8QgPfotOH8m"
      }
    },
    {
      "cell_type": "code",
      "source": [
        "def split_and_join(line):\n",
        "    line =line.split(\" \")\n",
        "    listToStr = '-'.join(map(str, line))\n",
        "    return listToStr\n",
        "\n",
        "if __name__ == '__main__':\n",
        "    line = input()\n",
        "    result = split_and_join(line)\n",
        "    print(result)"
      ],
      "metadata": {
        "id": "62wYh4kyOISH"
      },
      "execution_count": null,
      "outputs": []
    },
    {
      "cell_type": "markdown",
      "source": [
        "What's your name"
      ],
      "metadata": {
        "id": "dp_sOyL8y3Hz"
      }
    },
    {
      "cell_type": "code",
      "source": [
        "def print_full_name(first, last):\n",
        "    final=\"Hello \"+first+\" \" +last+\"! You just delved into python.\"\n",
        "    \n",
        "    return print(final)\n",
        "    \n",
        "if __name__ == '__main__':\n",
        "    first_name = input()\n",
        "    last_name = input()\n",
        "    print_full_name(first_name, last_name)"
      ],
      "metadata": {
        "id": "pp1ckwQJy3e_"
      },
      "execution_count": null,
      "outputs": []
    },
    {
      "cell_type": "markdown",
      "source": [
        "Mutations"
      ],
      "metadata": {
        "id": "Xtb2TjqOy3yS"
      }
    },
    {
      "cell_type": "code",
      "source": [
        "def mutate_string(string, position, character):\n",
        "    string = string[:position] + character + string[position+1:]\n",
        "    return string\n",
        "\n",
        "if __name__ == '__main__':\n",
        "    s = input()\n",
        "    i, c = input().split()\n",
        "    s_new = mutate_string(s, int(i), c)\n",
        "    print(s_new)"
      ],
      "metadata": {
        "id": "wbcTpED7y4N3"
      },
      "execution_count": null,
      "outputs": []
    },
    {
      "cell_type": "markdown",
      "source": [
        "String Validator"
      ],
      "metadata": {
        "id": "tvxXLktyy4bg"
      }
    },
    {
      "cell_type": "code",
      "source": [
        "if __name__ == '__main__':\n",
        "    s = input()\n",
        "    print(any(c.isalnum() for c in s))\n",
        "    print(any(c.isalpha() for c in s))\n",
        "    print(any(c.isdigit() for c in s))\n",
        "    print(any(c.islower() for c in s))\n",
        "    print(any(c.isupper() for c in s))\n",
        "    "
      ],
      "metadata": {
        "id": "3E8nuUmjy4t8"
      },
      "execution_count": null,
      "outputs": []
    },
    {
      "cell_type": "markdown",
      "source": [
        "Text Alignment"
      ],
      "metadata": {
        "id": "GvpzTtr0y47t"
      }
    },
    {
      "cell_type": "code",
      "source": [
        "#Replace all ______ with rjust, ljust or center. \n",
        "\n",
        "thickness = int(input()) #This must be an odd number\n",
        "c = 'H'\n",
        "\n",
        "#Top Cone\n",
        "for i in range(thickness):\n",
        "    print((c*i).rjust(thickness-1)+c+(c*i).ljust(thickness-1))\n",
        "\n",
        "#Top Pillars\n",
        "for i in range(thickness+1):\n",
        "    print((c*thickness).center(thickness*2)+(c*thickness).center(thickness*6))\n",
        "\n",
        "#Middle Belt\n",
        "for i in range((thickness+1)//2):\n",
        "    print((c*thickness*5).center(thickness*6))    \n",
        "\n",
        "#Bottom Pillars\n",
        "for i in range(thickness+1):\n",
        "    print((c*thickness).center(thickness*2)+(c*thickness).center(thickness*6))    \n",
        "\n",
        "#Bottom Cone\n",
        "for i in range(thickness):\n",
        "    print(((c*(thickness-i-1)).rjust(thickness)+c+(c*(thickness-i-1)).ljust(thickness)).rjust(thickness*6))"
      ],
      "metadata": {
        "id": "q03wZjACy5Tb"
      },
      "execution_count": null,
      "outputs": []
    },
    {
      "cell_type": "markdown",
      "source": [
        "Text Wrap"
      ],
      "metadata": {
        "id": "nVW3P0aVzg9E"
      }
    },
    {
      "cell_type": "code",
      "source": [
        "import textwrap\n",
        "\n",
        "def wrap(string, max_width):\n",
        "    wrapresult = textwrap.fill(string,max_width)\n",
        "    return wrapresult\n",
        "\n",
        "if __name__ == '__main__':\n",
        "    string, max_width = input(), int(input())\n",
        "    result = wrap(string, max_width)\n",
        "    print(result)"
      ],
      "metadata": {
        "id": "2KCfrD94zjK5"
      },
      "execution_count": null,
      "outputs": []
    },
    {
      "cell_type": "markdown",
      "source": [
        "Desginer Door Mat"
      ],
      "metadata": {
        "id": "in3gibNHzsqa"
      }
    },
    {
      "cell_type": "code",
      "source": [
        "N, M = map(int,input().split())\n",
        "pattern = [('.|.'*(2*i + 1)).center(M, '-') for i in range(N//2)]\n",
        "print('\\n'.join(pattern + ['WELCOME'.center(M, '-')] + pattern[::-1]))"
      ],
      "metadata": {
        "id": "Kq3_RsMEzv6k"
      },
      "execution_count": null,
      "outputs": []
    },
    {
      "cell_type": "markdown",
      "source": [
        "String Formatting"
      ],
      "metadata": {
        "id": "2h7pvvMYzwUS"
      }
    },
    {
      "cell_type": "code",
      "source": [
        "def print_formatted(number):\n",
        "    res = number.bit_length()\n",
        "    for i in range(1,number+1):\n",
        "        print(str(i).rjust(res),oct(i).split(\"o\")[1].rjust(res),hex(i).split(\"x\")[1].upper().rjust(res),bin(i).split(\"b\")[1].rjust(res))\n",
        "\n",
        "if __name__ == '__main__':\n",
        "    n = int(input())\n",
        "    print_formatted(n)"
      ],
      "metadata": {
        "id": "fr8lY65-zyjm"
      },
      "execution_count": null,
      "outputs": []
    },
    {
      "cell_type": "markdown",
      "source": [
        "Capitalize"
      ],
      "metadata": {
        "id": "y38dJ0QFzzCV"
      }
    },
    {
      "cell_type": "code",
      "source": [
        "def solve(s):\n",
        "    for i in s[:].split():\n",
        "        s = s.replace(i, i.capitalize())\n",
        "    return s\n",
        "\n",
        "if __name__ == '__main__':\n",
        "    fptr = open(os.environ['OUTPUT_PATH'], 'w')\n",
        "\n",
        "    s = input()\n",
        "\n",
        "    result = solve(s)\n",
        "\n",
        "    fptr.write(result + '\\n')\n",
        "\n",
        "    fptr.close()"
      ],
      "metadata": {
        "id": "RfjmzCp-z0zU"
      },
      "execution_count": null,
      "outputs": []
    },
    {
      "cell_type": "markdown",
      "source": [
        "The Minion game"
      ],
      "metadata": {
        "id": "kCmm9cGzz2Pg"
      }
    },
    {
      "cell_type": "code",
      "source": [
        "def minion_game(string):\n",
        "    vowels = 'AEIOU'\n",
        "    St_Score, K_Score = 0, 0\n",
        "    length = len(string)\n",
        "    for i in range(length):\n",
        "        score = length - i\n",
        "        if string[i] in vowels:\n",
        "            K_Score += score\n",
        "        else:\n",
        "            St_Score += score\n",
        "    if St_Score == K_Score:\n",
        "        print('Draw')\n",
        "    if St_Score > K_Score:\n",
        "        print('Stuart {}'.format(St_Score))\n",
        "    if St_Score < K_Score:\n",
        "        print('Kevin {}'.format(K_Score))\n",
        "\n",
        "if __name__ == '__main__':\n",
        "    s = input()\n",
        "    minion_game(s)"
      ],
      "metadata": {
        "id": "doFtDLJlz4i3"
      },
      "execution_count": null,
      "outputs": []
    },
    {
      "cell_type": "markdown",
      "source": [
        "Merge the Tools"
      ],
      "metadata": {
        "id": "ABr2TyWzz48v"
      }
    },
    {
      "cell_type": "code",
      "source": [
        "def merge_the_tools(string, k):\n",
        "    for i in zip(*[iter(string)] * k):\n",
        "        d = dict()\n",
        "        print(''.join([ d.setdefault(c, c) for c in i if c not in d ]))\n",
        "\n",
        "if __name__ == '__main__':\n",
        "    string, k = input(), int(input())\n",
        "    merge_the_tools(string, k)"
      ],
      "metadata": {
        "id": "tCVnShWiz7e_"
      },
      "execution_count": null,
      "outputs": []
    }
  ]
}