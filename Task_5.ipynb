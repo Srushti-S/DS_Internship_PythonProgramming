{
  "nbformat": 4,
  "nbformat_minor": 0,
  "metadata": {
    "colab": {
      "provenance": []
    },
    "kernelspec": {
      "name": "python3",
      "display_name": "Python 3"
    },
    "language_info": {
      "name": "python"
    }
  },
  "cells": [
    {
      "cell_type": "markdown",
      "source": [
        "Re.split()"
      ],
      "metadata": {
        "id": "k71R1Y4BTm02"
      }
    },
    {
      "cell_type": "code",
      "execution_count": null,
      "metadata": {
        "id": "vhvkUx2NTk-B"
      },
      "outputs": [],
      "source": [
        "regex_pattern = r\"[\\b\\W\\b]+\"\t# Do not delete 'r'.\n",
        "\n",
        "import re\n",
        "print(\"\\n\".join(re.split(regex_pattern, input())))"
      ]
    },
    {
      "cell_type": "markdown",
      "source": [
        "Group(), Groups() & Groupdict()"
      ],
      "metadata": {
        "id": "wKPSAvIcTp1S"
      }
    },
    {
      "cell_type": "code",
      "source": [
        "import re\n",
        "s = re.findall(r\"([A-Za-z0-9])\\1+\",input())\n",
        "if s:\n",
        "    print(s[0])\n",
        "else:\n",
        "    print(-1)"
      ],
      "metadata": {
        "id": "YChFCODiTyPK"
      },
      "execution_count": null,
      "outputs": []
    },
    {
      "cell_type": "markdown",
      "source": [
        "Re.findall() & Re.finditer()"
      ],
      "metadata": {
        "id": "pXGSf-RdTyk5"
      }
    },
    {
      "cell_type": "code",
      "source": [
        "import re\n",
        "vowels = \"aeiou\"\n",
        "constants = \"qwrtypsdfghjklzxcvbnm\"\n",
        "s = re.findall(r\"(?<=[%s])([%s]{2,})[%s]\" % (constants, vowels, constants), input(), flags = re.I)\n",
        "print('\\n'.join(s or ['-1']))"
      ],
      "metadata": {
        "id": "abSZ5FK9T9Fu"
      },
      "execution_count": null,
      "outputs": []
    },
    {
      "cell_type": "markdown",
      "source": [
        "Re.start() & Re.end()"
      ],
      "metadata": {
        "id": "v5b42wjrT9h8"
      }
    },
    {
      "cell_type": "code",
      "source": [
        "import re\n",
        "\n",
        "st = input()\n",
        "subst = input()\n",
        "\n",
        "pat = re.compile(subst)\n",
        "match = pat.search(st)\n",
        "\n",
        "if not match: \n",
        "    print('(-1, -1)')\n",
        "    \n",
        "while match:\n",
        "    print('({0}, {1})'.format(match.start(), match.end() - 1))\n",
        "    match = pat.search(st, match.start() + 1)"
      ],
      "metadata": {
        "id": "TjEaA4JiUAky"
      },
      "execution_count": null,
      "outputs": []
    },
    {
      "cell_type": "markdown",
      "source": [
        "Regex Substitution"
      ],
      "metadata": {
        "id": "VypV015nUA0q"
      }
    },
    {
      "cell_type": "code",
      "source": [
        "import re\n",
        "\n",
        "n = int(input())\n",
        "\n",
        "for i in range(n):\n",
        "   s = input()\n",
        "   s = re.sub(r\"\\ \\&\\&\\ \",\" and \",s)\n",
        "   s = re.sub(r\"\\ \\|\\|\\ \",\" or \",s)\n",
        "   s = re.sub(r\"\\ \\&\\&\\ \",\" and \",s)\n",
        "   s = re.sub(r\"\\ \\|\\|\\ \",\" or \",s)\n",
        "   print(s)"
      ],
      "metadata": {
        "id": "0_5k3Z6SUDn6"
      },
      "execution_count": null,
      "outputs": []
    },
    {
      "cell_type": "markdown",
      "source": [
        "Validating Roman Numerals"
      ],
      "metadata": {
        "id": "5eJYNIYBUD3N"
      }
    },
    {
      "cell_type": "code",
      "source": [
        "regex_pattern = r\"^(?=[MDCLXVI])M{0,3}(C[MD]|D?C{0,3})(X[CL]|L?X{0,3})(I[XV]|V?I{0,3})$\"\t# Do not delete 'r'.\n",
        "\n",
        "import re\n",
        "print(str(bool(re.match(regex_pattern, input()))))"
      ],
      "metadata": {
        "id": "P0w4fjCgUG2E"
      },
      "execution_count": null,
      "outputs": []
    },
    {
      "cell_type": "markdown",
      "source": [
        "Validating phone numbers"
      ],
      "metadata": {
        "id": "lKQYHZmLUHvy"
      }
    },
    {
      "cell_type": "code",
      "source": [
        "import re\n",
        "for _ in range(int(input())):\n",
        "    if re.match(r'[789]\\d{9}$',input()):   \n",
        "        print('YES')  \n",
        "    else:  \n",
        "        print('NO')"
      ],
      "metadata": {
        "id": "JfAddlErULrO"
      },
      "execution_count": null,
      "outputs": []
    },
    {
      "cell_type": "markdown",
      "source": [
        "Validating and Parsing Email Address"
      ],
      "metadata": {
        "id": "LNQuB3xGUM3B"
      }
    },
    {
      "cell_type": "code",
      "source": [
        "import re\n",
        "n = int(input())\n",
        "for i in range(n):\n",
        "    x, y = input().split(' ')\n",
        "    s = re.match(r'<[A-Za-z](\\w|-|\\.|i)+@[A-Za-z]+\\.[A-Za-z]{1,3}>', y)\n",
        "    if s:\n",
        "        print(x,y)"
      ],
      "metadata": {
        "id": "kdjM3wKOUP-_"
      },
      "execution_count": null,
      "outputs": []
    },
    {
      "cell_type": "markdown",
      "source": [
        "Hex Color Code"
      ],
      "metadata": {
        "id": "SWeJBU1dUQSo"
      }
    },
    {
      "cell_type": "code",
      "source": [
        "import re\n",
        "\n",
        "n=int(input())\n",
        "\n",
        "for i in range(0,n):\n",
        "    s=input()\n",
        "    x=s.split()\n",
        "\n",
        "    if len(x)>1  and  '{' not in x:\n",
        "        x=re.findall(r'#[a-fA-F0-9]{3,6}',s)\n",
        "        [print(i) for  i in x]"
      ],
      "metadata": {
        "id": "uBroygQ_USP-"
      },
      "execution_count": null,
      "outputs": []
    },
    {
      "cell_type": "markdown",
      "source": [
        "HTML Parser - Part 2"
      ],
      "metadata": {
        "id": "AoEO3v1LUTN_"
      }
    },
    {
      "cell_type": "code",
      "source": [
        "from html.parser import HTMLParser\n",
        "\n",
        "class main(HTMLParser):\n",
        "    def handle_starttag(self, tag, attrs):        \n",
        "        print ('Start :',tag)\n",
        "        for j in attrs:\n",
        "            print ('->',j[0],'>',j[1])\n",
        "            \n",
        "    def handle_endtag(self, tag):\n",
        "        print ('End   :',tag)\n",
        "        \n",
        "    def handle_startendtag(self, tag, attrs):\n",
        "        print ('Empty :',tag)\n",
        "        for j in attrs:\n",
        "            print ('->',j[0],'>',j[1])\n",
        "            \n",
        "y = main()\n",
        "y.feed(''.join([input().strip() for y in range(int(input()))]))"
      ],
      "metadata": {
        "id": "CRha6hQJUWQp"
      },
      "execution_count": null,
      "outputs": []
    },
    {
      "cell_type": "markdown",
      "source": [
        "Detect HTML Tags, Attributes and Attribute Values"
      ],
      "metadata": {
        "id": "hzJlW-RWUWzb"
      }
    },
    {
      "cell_type": "code",
      "source": [
        "from html.parser import HTMLParser\n",
        "class main(HTMLParser):\n",
        "    def handle_starttag(self, tag, attrs):\n",
        "        print(tag)\n",
        "        [print('-> {} > {}'.format(*attr)) for attr in attrs]\n",
        "        \n",
        "h = '\\n'.join([input() for i in range(int(input()))])\n",
        "x = main()\n",
        "x.feed(h)\n",
        "x.close()"
      ],
      "metadata": {
        "id": "A6TufmNpUbfc"
      },
      "execution_count": null,
      "outputs": []
    },
    {
      "cell_type": "markdown",
      "source": [
        "Validating UID"
      ],
      "metadata": {
        "id": "84q_-bNpUch3"
      }
    },
    {
      "cell_type": "code",
      "source": [
        "import re\n",
        "\n",
        "for i in range(int(input())):\n",
        "    x = ''.join(sorted(input()))\n",
        "    try:\n",
        "        assert re.search(r'[A-Z]{2}', x)\n",
        "        assert re.search(r'\\d\\d\\d', x)\n",
        "        assert not re.search(r'[^a-zA-Z0-9]', x)\n",
        "        assert not re.search(r'(.)\\1', x)\n",
        "        assert len(x) == 10\n",
        "    except:\n",
        "        print('Invalid')\n",
        "    else:\n",
        "        print('Valid')"
      ],
      "metadata": {
        "id": "mxb6twQxUejT"
      },
      "execution_count": null,
      "outputs": []
    },
    {
      "cell_type": "markdown",
      "source": [
        "Validating Credit Card Numbers"
      ],
      "metadata": {
        "id": "wY4oFoctUfAi"
      }
    },
    {
      "cell_type": "code",
      "source": [
        "import re\n",
        "\n",
        "x = re.compile(\n",
        "    r\"^\"\n",
        "    r\"(?!.*(\\d)(-?\\1){3})\"\n",
        "    r\"[456]\"\n",
        "    r\"\\d{3}\"\n",
        "    r\"(?:-?\\d{4}){3}\"\n",
        "    r\"$\")\n",
        "for i in range(int(input().strip())):\n",
        "    print(\"Valid\" if x.search(input().strip()) else \"Invalid\")"
      ],
      "metadata": {
        "id": "wb5nbSvMUjH_"
      },
      "execution_count": null,
      "outputs": []
    },
    {
      "cell_type": "markdown",
      "source": [
        "Validating Postal Codes"
      ],
      "metadata": {
        "id": "P7eDpvfCUjde"
      }
    },
    {
      "cell_type": "code",
      "source": [
        "regex_integer_in_range = r\"^[1-9]\\d{5}$\"\t# Do not delete 'r'.\n",
        "regex_alternating_repetitive_digit_pair = r\"(\\d)(?=\\d\\1)\"\t# Do not delete 'r'.\n",
        "\n",
        "\n",
        "import re\n",
        "P = input()\n",
        "\n",
        "print (bool(re.match(regex_integer_in_range, P)) \n",
        "and len(re.findall(regex_alternating_repetitive_digit_pair, P)) < 2)"
      ],
      "metadata": {
        "id": "aEtUp1xlUlhb"
      },
      "execution_count": null,
      "outputs": []
    },
    {
      "cell_type": "markdown",
      "source": [
        "Matrix Script"
      ],
      "metadata": {
        "id": "sUM28wcQUl19"
      }
    },
    {
      "cell_type": "code",
      "source": [
        "import math\n",
        "import os\n",
        "import random\n",
        "import re\n",
        "import sys\n",
        "\n",
        "\n",
        "\n",
        "\n",
        "first_multiple_input = input().rstrip().split()\n",
        "\n",
        "n = int(first_multiple_input[0])\n",
        "\n",
        "m = int(first_multiple_input[1])\n",
        "\n",
        "matrix = []\n",
        "\n",
        "for _ in range(n):\n",
        "    matrix_item = input()\n",
        "    matrix.append(matrix_item)\n",
        "encoded_string = \"\".join([matrix[j][i] for i in range(m) for j in range(n)])\n",
        "pat = r'(?<=[a-zA-Z0-9])[^a-zA-Z0-9]+(?=[a-zA-Z0-9])'\n",
        "print(re.sub(pat,' ',encoded_string))"
      ],
      "metadata": {
        "id": "GuV9iQbPUpqe"
      },
      "execution_count": null,
      "outputs": []
    }
  ]
}