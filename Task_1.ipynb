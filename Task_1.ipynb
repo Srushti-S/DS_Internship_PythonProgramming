{
  "nbformat": 4,
  "nbformat_minor": 0,
  "metadata": {
    "colab": {
      "provenance": []
    },
    "kernelspec": {
      "name": "python3",
      "display_name": "Python 3"
    },
    "language_info": {
      "name": "python"
    }
  },
  "cells": [
    {
      "cell_type": "markdown",
      "source": [
        "Say \"Hello, World!\" with Python"
      ],
      "metadata": {
        "id": "sB5788KYTGgT"
      }
    },
    {
      "cell_type": "code",
      "execution_count": null,
      "metadata": {
        "id": "ZzOuYALYTFnL"
      },
      "outputs": [],
      "source": [
        "print(\"Hello, World!\")"
      ]
    },
    {
      "cell_type": "markdown",
      "source": [
        "Python If-Else"
      ],
      "metadata": {
        "id": "kgBv5NnnTeWO"
      }
    },
    {
      "cell_type": "code",
      "source": [
        "#!/bin/python\n",
        "import math\n",
        "import os\n",
        "import random\n",
        "import re\n",
        "import sys\n",
        "\n",
        "if __name__ == '__main__':\n",
        "    n = int(input().strip())\n",
        "    if n>=1 and n<=100:\n",
        "        if n%2!=0:\n",
        "            print(\"Weird\")\n",
        "        else:\n",
        "            if n>=2 and n<=5:\n",
        "                print(\"Not Weird\")\n",
        "            elif n>=6 and n<=20:\n",
        "                print(\"Weird\")\n",
        "            else:\n",
        "                print(\"Not Weird\")"
      ],
      "metadata": {
        "id": "73c9IoPFTeq0"
      },
      "execution_count": null,
      "outputs": []
    },
    {
      "cell_type": "markdown",
      "source": [
        "Arithmetic Operators"
      ],
      "metadata": {
        "id": "T3GbRtGFTfD8"
      }
    },
    {
      "cell_type": "code",
      "source": [
        "if __name__ == '__main__':\n",
        "    a = int(input())\n",
        "    b = int(input())\n",
        "    print(a+b)\n",
        "    print(a-b)\n",
        "    print(a*b)"
      ],
      "metadata": {
        "id": "lA599ddETfYw"
      },
      "execution_count": null,
      "outputs": []
    },
    {
      "cell_type": "markdown",
      "source": [
        "Python: Division"
      ],
      "metadata": {
        "id": "E-gTZ2iQTfn2"
      }
    },
    {
      "cell_type": "code",
      "source": [
        "if __name__ == '__main__':\n",
        "    a = int(input())\n",
        "    b = int(input())\n",
        "    print(a//b)\n",
        "    print(a/b)"
      ],
      "metadata": {
        "id": "oXYuwnUPTf-c"
      },
      "execution_count": null,
      "outputs": []
    },
    {
      "cell_type": "markdown",
      "source": [
        "Loops"
      ],
      "metadata": {
        "id": "sPRXPS8-TgXx"
      }
    },
    {
      "cell_type": "code",
      "source": [
        "def is_leap(year):\n",
        "    leap = False\n",
        "    \n",
        "    if year>=1900 and year<=100000:\n",
        "      \n",
        "        if (year % 400 == 0) and (year % 100 == 0):\n",
        "            leap= True\n",
        "\n",
        "        elif (year % 4 ==0) and (year % 100 != 0):\n",
        "            leap= True\n",
        "\n",
        "        else:\n",
        "            leap = False\n",
        "    \n",
        "    return leap\n",
        "\n",
        "year = int(input())"
      ],
      "metadata": {
        "id": "lCjd6AfcTgu5"
      },
      "execution_count": null,
      "outputs": []
    },
    {
      "cell_type": "markdown",
      "source": [
        "Write a function"
      ],
      "metadata": {
        "id": "a1A2X8Y1TsVO"
      }
    },
    {
      "cell_type": "code",
      "source": [
        "if __name__ == '__main__':\n",
        "    n = int(input())\n",
        "\n",
        "    if n>=1 and n<=150:\n",
        "        for i in range(1,n+1):\n",
        "            print(i,end=\"\")"
      ],
      "metadata": {
        "id": "YaZvSKJBTusL"
      },
      "execution_count": null,
      "outputs": []
    },
    {
      "cell_type": "markdown",
      "source": [
        "Print Function"
      ],
      "metadata": {
        "id": "j4W7ReecTvJA"
      }
    },
    {
      "cell_type": "code",
      "source": [
        "if __name__ == '__main__':\n",
        "    n = int(input())\n",
        "    for i in range(n):\n",
        "        print(i*i)"
      ],
      "metadata": {
        "id": "ENPpP8MKT-oK"
      },
      "execution_count": null,
      "outputs": []
    }
  ]
}