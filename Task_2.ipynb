{
  "nbformat": 4,
  "nbformat_minor": 0,
  "metadata": {
    "colab": {
      "provenance": []
    },
    "kernelspec": {
      "name": "python3",
      "display_name": "Python 3"
    },
    "language_info": {
      "name": "python"
    }
  },
  "cells": [
    {
      "cell_type": "markdown",
      "source": [
        "Find the RUnner-Up Score!"
      ],
      "metadata": {
        "id": "bk4O96SgVDlh"
      }
    },
    {
      "cell_type": "code",
      "execution_count": null,
      "metadata": {
        "id": "baEfNJRTU9kd"
      },
      "outputs": [],
      "source": [
        "if __name__ == '__main__':\n",
        "    n = int(input())\n",
        "    arr = map(int, input().split())\n",
        "new_arr=list(arr)\n",
        "\n",
        "new_arr.sort(reverse=True)\n",
        "\n",
        "top=new_arr[0]\n",
        "runner_up=0\n",
        "for i in new_arr:\n",
        "    \n",
        "    if i<top:\n",
        "        runner_up=i\n",
        "        break\n",
        "print(runner_up)"
      ]
    },
    {
      "cell_type": "markdown",
      "source": [
        "Nested List"
      ],
      "metadata": {
        "id": "ZmtXKz_6VEHN"
      }
    },
    {
      "cell_type": "code",
      "source": [
        "if __name__ == '__main__':\n",
        "    lst = []\n",
        "    for i in range(int(input())):\n",
        "        name = input()\n",
        "        score = float(input())\n",
        "        lst.append([name, score])\n",
        "    \n",
        "    second_lowest = sorted(set([score for name, score in lst]))[1]\n",
        "    \n",
        "    print('\\n'.join(sorted([name for name, score in lst if score ==second_lowest])))"
      ],
      "metadata": {
        "id": "0noMWZJ2VEf_"
      },
      "execution_count": null,
      "outputs": []
    },
    {
      "cell_type": "markdown",
      "source": [
        "Find the percentage"
      ],
      "metadata": {
        "id": "CfnDw2RiVE2f"
      }
    },
    {
      "cell_type": "code",
      "source": [
        "if __name__ == '__main__':\n",
        "    n = int(input())\n",
        "    student_marks = {}\n",
        "    for _ in range(n):\n",
        "        name, *line = input().split()\n",
        "        scores = list(map(float, line))\n",
        "        student_marks[name] = scores\n",
        "    query_name = input()\n",
        "    if query_name in student_marks.keys():\n",
        "        lst = list(student_marks[query_name])\n",
        "        avg=sum(lst)/len(lst)\n",
        "        print('%.2f' % avg)"
      ],
      "metadata": {
        "id": "5bGTPAxVVFTg"
      },
      "execution_count": null,
      "outputs": []
    },
    {
      "cell_type": "markdown",
      "source": [
        "Lists"
      ],
      "metadata": {
        "id": "XkwjfeK_VHH3"
      }
    },
    {
      "cell_type": "code",
      "source": [
        "if __name__ == '__main__':\n",
        "    N = int(input())\n",
        "    lst=[]\n",
        "    for i in range(N):\n",
        "        j=input().split();\n",
        "        if j[0]=='insert':\n",
        "            lst.insert(int(j[1]),int(j[2]))\n",
        "        elif j[0]=='append':\n",
        "            lst.append(int(j[1]))\n",
        "        elif j[0]=='print':\n",
        "            print(lst)\n",
        "        elif j[0]=='remove':\n",
        "            lst.remove(int(j[1]))\n",
        "        elif j[0]=='pop':\n",
        "            lst.pop()\n",
        "        elif j[0]=='sort':\n",
        "            lst.sort()\n",
        "        elif j[0]=='reverse':\n",
        "            lst.reverse()"
      ],
      "metadata": {
        "id": "veqUlcbTVGHw"
      },
      "execution_count": null,
      "outputs": []
    },
    {
      "cell_type": "markdown",
      "source": [
        "Tuples"
      ],
      "metadata": {
        "id": "GudKL8JAVFuR"
      }
    },
    {
      "cell_type": "code",
      "source": [
        "if __name__ == '__main__':\n",
        "    n = int(input())\n",
        "    integer_list = map(int, input().split())\n",
        "\n",
        "    t = ()\n",
        "    for x in integer_list:\n",
        "        t+=(x,)\n",
        "    print(hash(t))"
      ],
      "metadata": {
        "id": "DmifHhu7VIBv"
      },
      "execution_count": null,
      "outputs": []
    },
    {
      "cell_type": "markdown",
      "source": [
        "Introduction to Sets"
      ],
      "metadata": {
        "id": "l38AUZheVFmk"
      }
    },
    {
      "cell_type": "code",
      "source": [
        "def average(array):\n",
        "    # your code goes here\n",
        "    s=set(array)\n",
        "    \n",
        "    return sum(s)/len(s)\n",
        "\n",
        "if __name__ == '__main__':\n",
        "    n = int(input())\n",
        "    arr = list(map(int, input().split()))\n",
        "    result = average(arr)\n",
        "    print(result)"
      ],
      "metadata": {
        "id": "7etgEf8-VIeA"
      },
      "execution_count": null,
      "outputs": []
    },
    {
      "cell_type": "markdown",
      "source": [
        "No Idea!"
      ],
      "metadata": {
        "id": "wcJ0sFw_VI2R"
      }
    },
    {
      "cell_type": "code",
      "source": [
        "if __name__ == \"__main__\":\n",
        "    \n",
        "    x = list(map(int,input().split())) \n",
        "    n=x[0]\n",
        "    m=x[1]\n",
        "\n",
        "    lst = [int(num) for num in input().split(\" \", n-1)]\n",
        "    A = set(map(int, input().strip().split(' ')))\n",
        "    B = set(map(int, input().strip().split(' ')))\n",
        "\n",
        "    happiness=0\n",
        "\n",
        "    for i in lst:\n",
        "        if i in A:\n",
        "            happiness+=1 \n",
        "        elif i in B:\n",
        "            happiness-=1\n",
        "            \n",
        "    print(happiness)"
      ],
      "metadata": {
        "id": "LbfBznc3VJFg"
      },
      "execution_count": null,
      "outputs": []
    },
    {
      "cell_type": "markdown",
      "source": [
        "Symmetric Differences"
      ],
      "metadata": {
        "id": "lQVtZyQBVip8"
      }
    },
    {
      "cell_type": "code",
      "source": [
        "# Enter your code here. Read input from STDIN. Print output to STDOUT\n",
        "if __name__ == '__main__':\n",
        "    \n",
        "    n1=int(input())\n",
        "    a=set(map(int,input().split()))\n",
        "    n1=int(input())\n",
        "    b=set(map(int,input().split()))\n",
        "\n",
        "    a1 = (a.difference(b))\n",
        "    b1 = (b.difference(a))\n",
        "    ans = a1.union(b1)\n",
        "    for i in sorted(ans):\n",
        "        print(i)"
      ],
      "metadata": {
        "id": "6pS4Hw0wVmpt"
      },
      "execution_count": null,
      "outputs": []
    },
    {
      "cell_type": "markdown",
      "source": [
        "Set .add()"
      ],
      "metadata": {
        "id": "A3atp9vwVpTY"
      }
    },
    {
      "cell_type": "code",
      "source": [
        "n= int(input())\n",
        "countries=set()\n",
        "for i in range(n):\n",
        "    countries.add(input())\n",
        "print(len(countries))"
      ],
      "metadata": {
        "id": "po48a-hRVraH"
      },
      "execution_count": null,
      "outputs": []
    },
    {
      "cell_type": "markdown",
      "source": [
        "Set .discard(), .remove() & .pop()"
      ],
      "metadata": {
        "id": "TWdvGTQOVryh"
      }
    },
    {
      "cell_type": "code",
      "source": [
        "n = int(input())\n",
        "s = set(map(int, input().split()))\n",
        "N = int(input())\n",
        "for i in range(N):\n",
        "    cmd = list(map(str, input().split()))\n",
        "    if cmd[0] == \"pop\":\n",
        "        s.pop()\n",
        "    elif cmd[0] == \"remove\":\n",
        "        try:\n",
        "            s.remove(int(cmd[1]))\n",
        "        except:\n",
        "            continue\n",
        "    elif cmd[0] == \"discard\":\n",
        "        try:\n",
        "            s.discard(int(cmd[1]))\n",
        "        except:\n",
        "            continue\n",
        "print(sum(s))"
      ],
      "metadata": {
        "id": "64_bw6bmVwfl"
      },
      "execution_count": null,
      "outputs": []
    },
    {
      "cell_type": "markdown",
      "source": [
        "Set .intersection() Operation"
      ],
      "metadata": {
        "id": "8735EQx8VwyC"
      }
    },
    {
      "cell_type": "code",
      "source": [
        "i = int(input())\n",
        "SET_N = set(map(int, input().split()))\n",
        "\n",
        "i = int(input())\n",
        "SET_B = set(map(int, input().split()))\n",
        "\n",
        "print(len(SET_N & SET_B))"
      ],
      "metadata": {
        "id": "9NlRAbt5V0DZ"
      },
      "execution_count": null,
      "outputs": []
    },
    {
      "cell_type": "markdown",
      "source": [
        "Set .difference() Operation"
      ],
      "metadata": {
        "id": "owsbNlI8V0cc"
      }
    },
    {
      "cell_type": "code",
      "source": [
        "i = int(input())\n",
        "A = set(map(int, input().split()))\n",
        "\n",
        "i = int(input())\n",
        "B = set(map(int, input().split()))\n",
        "\n",
        "newSET = A.difference(B)\n",
        "print(len(newSET))"
      ],
      "metadata": {
        "id": "VI4sBjJkV3Q7"
      },
      "execution_count": null,
      "outputs": []
    },
    {
      "cell_type": "markdown",
      "source": [
        "Set .symmetric_difference() Operation"
      ],
      "metadata": {
        "id": "dCckHWRaV4Ds"
      }
    },
    {
      "cell_type": "code",
      "source": [
        "i = int(input())\n",
        "A = set(map(int, input().split()))\n",
        "\n",
        "i = int(input())\n",
        "B = set(map(int, input().split()))\n",
        "\n",
        "print(len(A.symmetric_difference(B)))"
      ],
      "metadata": {
        "id": "sKZY5ILLV8Lv"
      },
      "execution_count": null,
      "outputs": []
    },
    {
      "cell_type": "markdown",
      "source": [
        "Set Mutations"
      ],
      "metadata": {
        "id": "tIAwJoylV8hY"
      }
    },
    {
      "cell_type": "code",
      "source": [
        "num = int(input())\n",
        "A = set(map(int, input().split()))\n",
        "N = int(input())\n",
        "\n",
        "for i in range(N):\n",
        "    cmd = input().split()\n",
        "    new_set = set(map(int, input().split()))\n",
        "    eval('A.{}({})'.format(cmd[0], new_set))\n",
        "\n",
        "print(sum(A))"
      ],
      "metadata": {
        "id": "YsstwX86V-tS"
      },
      "execution_count": null,
      "outputs": []
    },
    {
      "cell_type": "markdown",
      "source": [
        "The Captain's Room"
      ],
      "metadata": {
        "id": "ytaihV7kV_Ka"
      }
    },
    {
      "cell_type": "code",
      "source": [
        "n = input()\n",
        "lst = input().split()\n",
        "room = set(lst)\n",
        "\n",
        "for i in list(room):\n",
        "    lst.remove(i)\n",
        "\n",
        "captionRoom = room.difference(set(lst)).pop()\n",
        "print(captionRoom)"
      ],
      "metadata": {
        "id": "T7tEGEMYWCKD"
      },
      "execution_count": null,
      "outputs": []
    },
    {
      "cell_type": "markdown",
      "source": [
        "Check Subset"
      ],
      "metadata": {
        "id": "fKcZNXSPWCg3"
      }
    },
    {
      "cell_type": "code",
      "source": [
        "for i in range(int(input())):\n",
        "    a1 = int(input())\n",
        "    A = set(map(int, input().split()))\n",
        "\n",
        "    b2 = int(input())\n",
        "    B = set(map(int, input().split()))\n",
        "\n",
        "    if len(A - B) == 0:\n",
        "        print(\"True\")\n",
        "    else:\n",
        "        print(\"False\")"
      ],
      "metadata": {
        "id": "pbs1b_KFWElv"
      },
      "execution_count": null,
      "outputs": []
    },
    {
      "cell_type": "markdown",
      "source": [
        "Check Strict Superset"
      ],
      "metadata": {
        "id": "yvM6GG0nWE-R"
      }
    },
    {
      "cell_type": "code",
      "source": [
        "for i in range(int(input())):\n",
        "    a1 = int(input())\n",
        "    A = set(map(int, input().split()))\n",
        "\n",
        "    b1 = int(input())\n",
        "    B = set(map(int, input().split()))\n",
        "\n",
        "    if len(A - B) == 0:\n",
        "        print(\"True\")\n",
        "    else:\n",
        "        print(\"False\")"
      ],
      "metadata": {
        "id": "eY0C-VKWWHr_"
      },
      "execution_count": null,
      "outputs": []
    }
  ]
}