{
  "nbformat": 4,
  "nbformat_minor": 0,
  "metadata": {
    "colab": {
      "provenance": []
    },
    "kernelspec": {
      "name": "python3",
      "display_name": "Python 3"
    },
    "language_info": {
      "name": "python"
    }
  },
  "cells": [
    {
      "cell_type": "markdown",
      "source": [
        "Polar coordinates"
      ],
      "metadata": {
        "id": "b1EiMOFxJakG"
      }
    },
    {
      "cell_type": "code",
      "execution_count": null,
      "metadata": {
        "id": "6zd0J7uoY8zL"
      },
      "outputs": [],
      "source": [
        "import cmath\n",
        "print(*cmath.polar(complex(input())),sep='\\n')"
      ]
    },
    {
      "cell_type": "markdown",
      "source": [
        "Triangle Quest 2"
      ],
      "metadata": {
        "id": "NJm_dAv-Jegq"
      }
    },
    {
      "cell_type": "code",
      "source": [
        "for i in range(1,int(input())+1): #More than 2 lines will result in 0 score. Do not leave a blank line also\n",
        "    print ((((10**i)-1)//(9))**2)"
      ],
      "metadata": {
        "id": "vKD8dU-sJfBP"
      },
      "execution_count": null,
      "outputs": []
    },
    {
      "cell_type": "markdown",
      "source": [
        "Mod DivMod"
      ],
      "metadata": {
        "id": "_JcK9MhyJfUk"
      }
    },
    {
      "cell_type": "code",
      "source": [
        "a=int(input())\n",
        "b=int(input())\n",
        "res= divmod(a,b)\n",
        "print(str(res[0])+\"\\n\"+ str(res[1])+\"\\n\"+str(res))"
      ],
      "metadata": {
        "id": "yxyjM70FJfqJ"
      },
      "execution_count": null,
      "outputs": []
    },
    {
      "cell_type": "markdown",
      "source": [
        "Mod Power"
      ],
      "metadata": {
        "id": "13GiyQ4pJf4w"
      }
    },
    {
      "cell_type": "code",
      "source": [
        "a=int (input())\n",
        "b=int (input())\n",
        "res=int (input())\n",
        "print(a**b)\n",
        "print((a**b)%res)"
      ],
      "metadata": {
        "id": "ED5k-ZwgJgNX"
      },
      "execution_count": null,
      "outputs": []
    },
    {
      "cell_type": "markdown",
      "source": [
        "Integers Come in all sizes"
      ],
      "metadata": {
        "id": "jwr_xO4HJgu4"
      }
    },
    {
      "cell_type": "code",
      "source": [
        "a=int(input())\n",
        "b=int(input())\n",
        "c=int(input())\n",
        "d=int(input())\n",
        "print(str( a**b + c**d))"
      ],
      "metadata": {
        "id": "7YTwvrgZJhaZ"
      },
      "execution_count": null,
      "outputs": []
    },
    {
      "cell_type": "markdown",
      "source": [
        "Triangle Quest"
      ],
      "metadata": {
        "id": "hiWaTdWyLnn5"
      }
    },
    {
      "cell_type": "code",
      "source": [
        "for i in range(1,int(input())): #More than 2 lines will result in 0 score. Do not leave a blank line also\n",
        "    print(i*((10**i-1)//9))"
      ],
      "metadata": {
        "id": "MkJNPNwbLoE_"
      },
      "execution_count": null,
      "outputs": []
    }
  ]
}